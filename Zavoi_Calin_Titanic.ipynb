{
  "nbformat": 4,
  "nbformat_minor": 0,
  "metadata": {
    "colab": {
      "provenance": []
    },
    "kernelspec": {
      "name": "python3",
      "display_name": "Python 3"
    },
    "language_info": {
      "name": "python"
    }
  },
  "cells": [
    {
      "cell_type": "code",
      "execution_count": null,
      "metadata": {
        "id": "B9OMpIYdMCUH"
      },
      "outputs": [],
      "source": [
        "import pandas as pd\n",
        "\n",
        "titanic = pd.read_csv('https://raw.githubusercontent.com/nt246/NTRES-6100-data-science/master/datasets/Titanic.csv')\n",
        "\n",
        "display(titanic)\n",
        "\n",
        "ser_pass = titanic['PassengerId']\n",
        "\n",
        "\n",
        "display(ser_pass.count())"
      ]
    },
    {
      "cell_type": "code",
      "source": [
        "ser_surv = titanic['Survived']\n",
        "\n",
        "nr_total = ser_pass.count()\n",
        "\n",
        "nr_survived = ser_surv.sum()\n",
        "\n",
        "print(nr_survived)\n",
        "\n",
        "nr_dead = nr_total - nr_survived\n",
        "\n",
        "print(nr_dead)\n",
        "\n"
      ],
      "metadata": {
        "id": "-876l-UMk_Fd"
      },
      "execution_count": null,
      "outputs": []
    },
    {
      "cell_type": "code",
      "source": [
        "titanic['Adult'] = 0\n",
        "ser_age = titanic['Age']\n",
        "\n",
        "\n",
        "\n",
        "titanic.loc[ser_age >= 18, 'Adult'] = 1\n",
        "\n",
        "display(titanic)\n",
        "\n",
        "\n"
      ],
      "metadata": {
        "id": "BdvMDfgoljZk"
      },
      "execution_count": null,
      "outputs": []
    },
    {
      "cell_type": "code",
      "source": [
        "# corr intre adult si survived\n",
        "\n",
        "ser_ad = titanic['Adult']\n",
        "ser_surv =  titanic['Survived']\n",
        "\n",
        "coef = ser_ad.corr(ser_surv, method='pearson')\n",
        "\n",
        "print(coef)\n",
        "\n",
        "coef = ser_ad.corr(ser_surv, method='kendall')\n",
        "\n",
        "print(coef)\n",
        "\n",
        "coef = ser_ad.corr(ser_surv, method='spearman')\n",
        "\n",
        "print(coef)\n",
        "\n",
        "# coef = -0.008308517144873717 so they are not correlated\n",
        "\n",
        "\n",
        "# I also calculated the percentage of the survivors which were not adults (survived = 1 and adult = 0)\n",
        "\n",
        "without_unknown_age = titanic.dropna(subset=['Age'])\n",
        "\n",
        "total = without_unknown_age[without_unknown_age[\"Survived\"] == 1].shape[0]\n",
        "child_surv = titanic[(titanic[\"Survived\"] == 1) & (titanic[\"Adult\"] == 0)].shape[0]\n",
        "\n",
        "child_surv_perc = (child_surv / total) * 100\n",
        "\n",
        "print(child_surv_perc)\n",
        "\n",
        "\n",
        "# 38% of the survivors are children so I would say there is a higher chance"
      ],
      "metadata": {
        "id": "ZVbDvGLVoUg4"
      },
      "execution_count": null,
      "outputs": []
    },
    {
      "cell_type": "code",
      "source": [
        "# corr intre adult si survived\n",
        "\n",
        "without_unknown_age = titanic.dropna(subset=['Age'])\n",
        "\n",
        "ser_ad = without_unknown_age['Adult']\n",
        "ser_surv =  without_unknown_age['Survived']\n",
        "\n",
        "coef = ser_ad.corr(ser_surv, method='pearson')\n",
        "\n",
        "print(coef)\n",
        "\n",
        "coef = ser_ad.corr(ser_surv, method='kendall')\n",
        "\n",
        "print(coef)\n",
        "\n",
        "coef = ser_ad.corr(ser_surv, method='spearman')\n",
        "\n",
        "print(coef)\n",
        "\n",
        "# coef = -0.11801072927650455 so they are not correlated\n",
        "\n",
        "\n",
        "# I also calculated the percentage of the survivors which were not adults (survived = 1 and adult = 0)\n",
        "\n",
        "\n",
        "\n",
        "total = without_unknown_age[ser_surv == 1].shape[0]\n",
        "child_surv = without_unknown_age[(without_unknown_age[\"Survived\"] == 1) & (without_unknown_age[\"Adult\"] == 0)].shape[0]\n",
        "\n",
        "child_surv_perc = (child_surv / total) * 100\n",
        "\n",
        "print(child_surv_perc)\n",
        "\n",
        "\n",
        "# 21% of the survivors are children so I would say there is not a higher chance"
      ],
      "metadata": {
        "id": "LkNy2yBA9J71"
      },
      "execution_count": null,
      "outputs": []
    },
    {
      "cell_type": "code",
      "source": [
        "gr_pclass_sex = titanic.groupby([\"Pclass\", \"Sex\"])['PassengerId'].count()\n",
        "\n",
        "print(gr_pclass_sex)"
      ],
      "metadata": {
        "id": "29u3CeFUqkZ2"
      },
      "execution_count": null,
      "outputs": []
    },
    {
      "cell_type": "code",
      "source": [
        "savings = pd.read_csv('savings.csv')\n",
        "\n",
        "savings[['id', 'Savings']] = savings['id;Savings'].str.split(';', expand=True)\n",
        "\n",
        "savings.drop('id;Savings', axis=1, inplace=True)\n",
        "\n",
        "# print(type(titanic['PassengerId'][0]))\n",
        "\n",
        "savings['id'] = savings['id'].astype(int)\n",
        "savings['Savings'] = savings['Savings'].astype(int)\n",
        "\n",
        "display(savings)\n",
        "\n",
        "# df1.merge(df2, left_on='lkey', right_on='rkey', suffixes=('_left', '_right'))\n",
        "\n",
        "titanic_savings = titanic.merge(savings, left_on = 'PassengerId', right_on = 'id')\n",
        "\n",
        "titanic_savings.drop(columns = ['id'])\n",
        "\n",
        "display(titanic_savings)"
      ],
      "metadata": {
        "id": "xImucS4JrWaz"
      },
      "execution_count": null,
      "outputs": []
    },
    {
      "cell_type": "code",
      "source": [
        "nr_pass_savings = titanic_savings['Savings'].count()\n",
        "\n",
        "print(nr_pass_savings)"
      ],
      "metadata": {
        "id": "rJR7NX2it3qc"
      },
      "execution_count": null,
      "outputs": []
    },
    {
      "cell_type": "code",
      "source": [
        "survived = titanic_savings[titanic_savings['Survived'] == 1]\n",
        "\n",
        "gr_sex = survived.groupby('Sex')['Savings'].max()\n",
        "\n",
        "print(gr_sex)"
      ],
      "metadata": {
        "id": "pWdPKJfEuo6I"
      },
      "execution_count": null,
      "outputs": []
    },
    {
      "cell_type": "code",
      "source": [
        "dead = titanic_savings[titanic_savings['Survived'] == 0]\n",
        "\n",
        "ser_savings = dead['Savings']\n",
        "\n",
        "avg_savings = ser_savings.mean()\n",
        "\n",
        "display(avg_savings)"
      ],
      "metadata": {
        "id": "0TXAUbt2vNqf"
      },
      "execution_count": null,
      "outputs": []
    },
    {
      "cell_type": "code",
      "source": [
        "import re\n",
        "\n",
        "reg = 'Mr(s)*\\.'\n",
        "\n",
        "del_mr = titanic_savings\n",
        "\n",
        "ser_name = del_mr['Name']\n",
        "\n",
        "# ser_name.replace(regex=reg, value='')\n",
        "\n",
        "#\n",
        "\n",
        "repl_name = ser_name.str.replace(reg, '', regex=True)\n",
        "\n",
        "del_mr['Name'] = repl_name\n",
        "\n",
        "display(del_mr)\n"
      ],
      "metadata": {
        "id": "i1uTeGFPwfWX"
      },
      "execution_count": null,
      "outputs": []
    }
  ]
}